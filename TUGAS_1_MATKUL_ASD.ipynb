{
  "nbformat": 4,
  "nbformat_minor": 0,
  "metadata": {
    "colab": {
      "name": "TUGAS 1 MATKUL ASD",
      "provenance": [],
      "toc_visible": true,
      "authorship_tag": "ABX9TyPNYpo69crjsZuonHH6tLZp",
      "include_colab_link": true
    },
    "kernelspec": {
      "name": "python3",
      "display_name": "Python 3"
    },
    "language_info": {
      "name": "python"
    }
  },
  "cells": [
    {
      "cell_type": "markdown",
      "metadata": {
        "id": "view-in-github",
        "colab_type": "text"
      },
      "source": [
        "<a href=\"https://colab.research.google.com/github/AhmadRamadanu/AhmadRamadanu/blob/main/TUGAS_1_MATKUL_ASD.ipynb\" target=\"_parent\"><img src=\"https://colab.research.google.com/assets/colab-badge.svg\" alt=\"Open In Colab\"/></a>"
      ]
    },
    {
      "cell_type": "code",
      "execution_count": null,
      "metadata": {
        "colab": {
          "base_uri": "https://localhost:8080/"
        },
        "id": "HFtrYLpIY5fM",
        "outputId": "63221b0e-75b0-4235-b305-53af18e75c35"
      },
      "outputs": [
        {
          "output_type": "stream",
          "name": "stdout",
          "text": [
            "<class 'str'>\n",
            "<class 'int'>\n",
            "<class 'float'>\n",
            "<class 'bool'>\n"
          ]
        }
      ],
      "source": [
        "#variabel\n",
        "\n",
        "nama = \"Ahmad Ramadanu\"\n",
        "umur = 18\n",
        "tinggi = 1.60\n",
        "menikah = False\n",
        "\n",
        "print(type(nama))\n",
        "print(type(umur))\n",
        "print(type(tinggi))\n",
        "print(type(menikah))"
      ]
    },
    {
      "cell_type": "code",
      "source": [
        "#operator aritmatika\n",
        "\n",
        "#+,-,*,/,%,**,//,\n",
        "\n",
        "angka1 = 9\n",
        "angka2 = 3\n",
        "print(angka1 + angka2)\n",
        "print(angka1 - angka2)\n",
        "print(angka1 * angka2)\n",
        "print(angka1 / angka2)\n",
        "print(angka1 % angka2)\n",
        "print(angka1 ** angka2)\n",
        "print(angka1 // angka2)\n",
        "\n",
        "nama = \"danu\"\n",
        "gaji_pokok = 1000000\n",
        "lama_lembur = 24\n",
        "gaji_lemburPerjam = 5000\n",
        "gaji_lembur = gaji_lemburPerjam * lama_lembur\n",
        "gaji_kotor = gaji_pokok + gaji_lembur\n",
        "pajak = 9/100\n",
        "potongan = gaji_pokok * pajak\n",
        "gaji_bersih = gaji_pokok - potongan\n",
        "\n",
        "print(\"nama :\",nama)\n",
        "print(\"gaji pokok = Rp\", gaji_pokok)\n",
        "print(\"gaji_lembur/jam= Rp\", gaji_lemburPerjam)\n",
        "print(\"gaji lembur = Rp\", gaji_lembur)\n",
        "print(\"gaji koto = Rp\", gaji_kotor)\n",
        "print(\"pajak = \", pajak)\n",
        "print(\"potongan = Rp\", potongan)\n",
        "print(\"gaji bersih = Rp\", gaji_bersih)"
      ],
      "metadata": {
        "colab": {
          "base_uri": "https://localhost:8080/"
        },
        "id": "BXM2kIltZgSv",
        "outputId": "9fe85aa5-d68a-498e-cb01-692fd0bdeb98"
      },
      "execution_count": null,
      "outputs": [
        {
          "output_type": "stream",
          "name": "stdout",
          "text": [
            "12\n",
            "6\n",
            "27\n",
            "3.0\n",
            "0\n",
            "729\n",
            "3\n",
            "nama : danu\n",
            "gaji pokok = Rp 1000000\n",
            "gaji_lembur/jam= Rp 5000\n",
            "gaji lembur = Rp 120000\n",
            "gaji koto = Rp 1120000\n",
            "pajak =  0.09\n",
            "potongan = Rp 90000.0\n",
            "gaji bersih = Rp 910000.0\n"
          ]
        }
      ]
    },
    {
      "cell_type": "code",
      "source": [
        "#operator penugasan\n",
        "\n",
        "nilai = 10\n",
        "nilai2 = 5\n",
        "nilai += 2 #(nilai += 10) sama dengan (nilai = nilai +10)\n",
        "nilai =+ 2 #nilai2 =+ 10 sama dengan nilai2 = 10\n",
        "\n",
        "print(nilai)\n",
        "print(nilai2)\n",
        "nilai -= 1\n",
        "print(nilai)\n",
        "nilai = 2\n",
        "print(nilai)\n",
        "nilai /= 3\n",
        "print(nilai)\n",
        "nilai %= 2\n",
        "print(nilai)\n",
        "nilai **= 2\n",
        "print(nilai)\n",
        "nilai //= 2\n",
        "print(nilai)"
      ],
      "metadata": {
        "colab": {
          "base_uri": "https://localhost:8080/"
        },
        "id": "N2XyASgHkh9d",
        "outputId": "422b68b1-debd-407f-f5d1-ae60fd42ae7f"
      },
      "execution_count": null,
      "outputs": [
        {
          "output_type": "stream",
          "name": "stdout",
          "text": [
            "2\n",
            "5\n",
            "1\n",
            "2\n",
            "0.6666666666666666\n",
            "0.6666666666666666\n",
            "0.4444444444444444\n",
            "0.0\n"
          ]
        }
      ]
    },
    {
      "cell_type": "code",
      "source": [
        "#percabangan if\n",
        "\n",
        "nilai = 100\n",
        "if (nilai >= 10) :\n",
        "    print(nilai)"
      ],
      "metadata": {
        "colab": {
          "base_uri": "https://localhost:8080/"
        },
        "id": "CMEa60kgQYdg",
        "outputId": "13fb1489-762d-432d-a396-e337dbfe1913"
      },
      "execution_count": null,
      "outputs": [
        {
          "output_type": "stream",
          "name": "stdout",
          "text": [
            "100\n"
          ]
        }
      ]
    },
    {
      "cell_type": "code",
      "source": [
        "#percabangan if else\n",
        "\n",
        "nilai = 50\n",
        "if (nilai >= 40) :\n",
        "    print(\"lulus\") \n",
        "else :\n",
        "    print(\"tidak lulus\")"
      ],
      "metadata": {
        "colab": {
          "base_uri": "https://localhost:8080/"
        },
        "id": "GuaaxtoXRMTo",
        "outputId": "c1981d0b-ba45-4d38-e3a0-67d4ca455330"
      },
      "execution_count": null,
      "outputs": [
        {
          "output_type": "stream",
          "name": "stdout",
          "text": [
            "lulus\n"
          ]
        }
      ]
    },
    {
      "cell_type": "code",
      "source": [
        "#percabangan elif\n",
        "\n",
        "umur = 20\n",
        "if (umur >18 and umur <30) :\n",
        "    print(\"sudah beranjak dewasa\")\n",
        "elif(umur >30 and umur <45) :\n",
        "     print(\"masa masa emas\")\n",
        "elif(umur >45 and umur <55) :\n",
        "     print(\"masa paruh baya\")\n",
        "elif(umur >= 55) :\n",
        "     print(\"masa manula\")\n",
        "else:\n",
        "     print(\"masa dibawah umur\")"
      ],
      "metadata": {
        "colab": {
          "base_uri": "https://localhost:8080/"
        },
        "id": "V2XDbUUFRR3Z",
        "outputId": "2cffe6f8-e0e2-4291-ca78-dc8ba5dcd76b"
      },
      "execution_count": null,
      "outputs": [
        {
          "output_type": "stream",
          "name": "stdout",
          "text": [
            "sudah beranjak dewasa\n"
          ]
        }
      ]
    }
  ]
}