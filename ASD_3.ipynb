{
  "nbformat": 4,
  "nbformat_minor": 0,
  "metadata": {
    "colab": {
      "name": "ASD 3",
      "provenance": [],
      "toc_visible": true,
      "authorship_tag": "ABX9TyPK4usp3fDE39WTuxldT2T5"
    },
    "kernelspec": {
      "name": "python3",
      "display_name": "Python 3"
    },
    "language_info": {
      "name": "python"
    }
  },
  "cells": [
    {
      "cell_type": "code",
      "source": [
        "barang = []\n",
        "\n",
        "perintah = 0\n",
        "\n",
        "while perintah != 7:\n",
        "  print('''1.menambah\n",
        "2.menghapus\n",
        "3.mengedit\n",
        "4.menampilkan\n",
        "5.cari barang\n",
        "6.cari index\n",
        "7.keluar''')\n",
        "  perintah =int(input(\"masukan perintah: \"))\n",
        "\n",
        "  if perintah == 1:\n",
        "    while True:\n",
        "     elemen = input(\"masukan barang: \")\n",
        "     barang.append(elemen)\n",
        "     stop = input(\"ketik Ya untuk berhenti, selain itu lanjut: \").lower()\n",
        "     if stop == \"y\":\n",
        "       break\n",
        "\n",
        "  elif perintah == 2:\n",
        "    while True:\n",
        "     hapus = int(input(\"masukan indeks yang akan dihapus:\"))\n",
        "     barang.pop(hapus)\n",
        "     stop = input(\"ketik Ya untuk berhenti, selain itu lanjut: \").lower()\n",
        "     if stop == \"y\":\n",
        "       break\n",
        "     \n",
        "  elif perintah == 3:\n",
        "    while True:\n",
        "     edit = int(input(\"masukan index yang akan diedit: \"))\n",
        "     if edit > (len(barang) - 1):\n",
        "       print(\"index tidak ditemukan\")\n",
        "     else :\n",
        "       barang[edit] = input(\"masukan barang yang baru: \")\n",
        "     stop = input(\"ketik Ya untuk berhenti, selain itu lanjut: \").lower()\n",
        "     if stop == \"y\":\n",
        "       break\n",
        "\n",
        "  elif perintah == 4:\n",
        "    for i in range(len(barang)):\n",
        "      print(barang[i])\n",
        "\n",
        "  elif perintah == 5:\n",
        "    cari = input(\"masukan barang yang dicek: \")\n",
        "    for i in range(len(barang)):\n",
        "     if barang [i] == cari:\n",
        "      print(\"barang ada dalam list: \")\n",
        "     else:\n",
        "      print(\"barang tidak ditemukan\") \n",
        "\n",
        "  elif perintah == 6:\n",
        "   cari2 = input(\"masukan barang yang dicari: \")\n",
        "   if cari2 in barang:\n",
        "    print(f\"{cari2} ada pada index ke- {barang.index(cari2)} \")\n",
        "   else:\n",
        "    print(\"index tdk ditemukan\")"
      ],
      "metadata": {
        "id": "hznN6m2ZvOT2"
      },
      "execution_count": null,
      "outputs": []
    }
  ]
}